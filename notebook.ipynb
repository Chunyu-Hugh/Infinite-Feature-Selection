{
 "cells": [
  {
   "cell_type": "code",
   "execution_count": 2,
   "metadata": {},
   "outputs": [],
   "source": [
    "import scipy.io\n",
    "from sklearn.metrics import roc_curve\n",
    "from sklearn.model_selection import KFold, cross_val_score\n",
    "from sklearn import svm\n",
    "from feature_selection.inf_fs import inf_fs, select_inf_fs"
   ]
  },
  {
   "cell_type": "code",
   "execution_count": 3,
   "metadata": {},
   "outputs": [
    {
     "name": "stdout",
     "output_type": "stream",
     "text": [
      "USPS.mat   leukemia.mat  lung_small.mat  madelon.mat\n",
      "colon.mat  lung.mat\t lymphoma.mat\n"
     ]
    }
   ],
   "source": [
    "!ls ./data"
   ]
  },
  {
   "cell_type": "markdown",
   "metadata": {},
   "source": [
    "## Load dataset"
   ]
  },
  {
   "cell_type": "code",
   "execution_count": 4,
   "metadata": {},
   "outputs": [],
   "source": [
    "mat = scipy.io.loadmat('./data/colon.mat')\n",
    "\n",
    "X = mat['X'].astype(float)\n",
    "y = mat['Y'][:, 0]\n",
    "\n",
    "# normalization\n",
    "X = (X-X.min(axis=0))/(X.max(axis=0) - (X.min(axis=0)))"
   ]
  },
  {
   "cell_type": "markdown",
   "metadata": {},
   "source": [
    "## Evaluation"
   ]
  },
  {
   "cell_type": "code",
   "execution_count": 5,
   "metadata": {},
   "outputs": [],
   "source": [
    "num_features = [10,50,100,150,200]\n",
    "\n",
    "for num_feat in num_features:\n",
    "    rank, score = inf_fs(X,alpha=0.5,factor=0.9)"
   ]
  },
  {
   "cell_type": "code",
   "execution_count": 7,
   "metadata": {},
   "outputs": [
    {
     "data": {
      "text/plain": [
       "array([11.21034513, 11.12323936, 11.06361462, ...,  7.7075323 ,\n",
       "        7.65002108,  7.58629822])"
      ]
     },
     "execution_count": 7,
     "metadata": {},
     "output_type": "execute_result"
    }
   ],
   "source": [
    "score"
   ]
  },
  {
   "cell_type": "code",
   "execution_count": 38,
   "metadata": {},
   "outputs": [
    {
     "name": "stdout",
     "output_type": "stream",
     "text": [
      "AUC @ 10 inf-fs: 0.8012698412698412 naive: 0.482063492063492\n",
      "AUC @ 50 inf-fs: 0.8457142857142858 naive: 0.8196825396825396\n",
      "AUC @ 100 inf-fs: 0.8801587301587303 naive: 0.8641269841269843\n",
      "AUC @ 150 inf-fs: 0.9033333333333333 naive: 0.8361904761904763\n",
      "AUC @ 200 inf-fs: 0.8976190476190474 naive: 0.8698412698412697\n"
     ]
    }
   ],
   "source": [
    "num_features = [10,50,100,150,200]\n",
    "\n",
    "for num_feat in num_features:\n",
    "    X_sel = select_inf_fs(X, num_feat, alpha=0.5)\n",
    "\n",
    "    clf = svm.SVC()\n",
    "    ifs_auc = cross_val_score(clf, X_sel, y, \\\n",
    "                              cv=KFold(n_splits=5, shuffle=True, random_state=0), \\\n",
    "                              scoring='roc_auc').mean()\n",
    "    naive_auc =  cross_val_score(clf, X[:,:num_feat], y, \\\n",
    "                                 cv=KFold(n_splits=5, shuffle=True, random_state=0),\\\n",
    "                                 scoring='roc_auc').mean()\n",
    "    print('AUC @', num_feat, 'inf-fs:', ifs_auc, 'naive:', naive_auc)"
   ]
  },
  {
   "cell_type": "code",
   "execution_count": 39,
   "metadata": {},
   "outputs": [
    {
     "name": "stdout",
     "output_type": "stream",
     "text": [
      "Accuracy @ 10 inf-fs: 0.8346153846153846 naive: 0.5935897435897436\n",
      "Accuracy @ 50 inf-fs: 0.8179487179487179 naive: 0.7538461538461537\n",
      "Accuracy @ 100 inf-fs: 0.8358974358974359 naive: 0.7884615384615385\n",
      "Accuracy @ 150 inf-fs: 0.8358974358974359 naive: 0.7384615384615384\n",
      "Accuracy @ 200 inf-fs: 0.8358974358974359 naive: 0.7551282051282051\n"
     ]
    }
   ],
   "source": [
    "num_features = [10,50,100,150,200]\n",
    "\n",
    "for num_feat in num_features:\n",
    "    X_sel = select_inf_fs(X, num_feat, alpha=0.5)\n",
    "\n",
    "    clf = svm.SVC()\n",
    "    ifs_auc = cross_val_score(clf, X_sel, y, \\\n",
    "                              cv=KFold(n_splits=5, shuffle=True, random_state=0), \\\n",
    "                              scoring='accuracy').mean()\n",
    "    naive_auc =  cross_val_score(clf, X[:,:num_feat], y, \\\n",
    "                                 cv=KFold(n_splits=5, shuffle=True, random_state=0),\\\n",
    "                                 scoring='accuracy').mean()\n",
    "    print('Accuracy @', num_feat, 'inf-fs:', ifs_auc, 'naive:', naive_auc)"
   ]
  }
 ],
 "metadata": {
  "kernelspec": {
   "display_name": "Python 3",
   "language": "python",
   "name": "python3"
  },
  "language_info": {
   "codemirror_mode": {
    "name": "ipython",
    "version": 3
   },
   "file_extension": ".py",
   "mimetype": "text/x-python",
   "name": "python",
   "nbconvert_exporter": "python",
   "pygments_lexer": "ipython3",
   "version": "3.11.3"
  }
 },
 "nbformat": 4,
 "nbformat_minor": 4
}
